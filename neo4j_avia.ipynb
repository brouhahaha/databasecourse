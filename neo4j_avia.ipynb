{
 "cells": [
  {
   "cell_type": "markdown",
   "metadata": {},
   "source": [
    "# Графовая база данных Neo4J\n",
    "\n",
    " ### Авиарасписания\n",
    "\n",
    "Рубанова\n",
    "\n",
    "Суворова\n"
   ]
  },
  {
   "cell_type": "code",
   "execution_count": 1,
   "metadata": {},
   "outputs": [],
   "source": [
    "from neo4j import GraphDatabase, basic_auth\n",
    "import ipywidgets as widgets\n",
    "import re"
   ]
  },
  {
   "cell_type": "code",
   "execution_count": 2,
   "metadata": {},
   "outputs": [],
   "source": [
    "driver = GraphDatabase.driver(uri = \"bolt://localhost:7687\", basic_auth=(\"neo4j\", \"neo4j\"), encrypted=False)"
   ]
  },
  {
   "cell_type": "code",
   "execution_count": 3,
   "metadata": {},
   "outputs": [],
   "source": [
    "aircraft = driver.session().run('LOAD CSV WITH HEADERS FROM \"file:///aircraft_types.csv\" AS row CREATE (n:Aircraft) SET n = row, n.aircraft_type = toString(row.aircraft_type), n.manufacturer = toString(row.manufacturer), n.capacity = toInteger(row.capacity), n.body_type = toString(row.body_type), n.distance = toString(row.distance)')"
   ]
  },
  {
   "cell_type": "code",
   "execution_count": 4,
   "metadata": {},
   "outputs": [],
   "source": [
    "airline = driver.session().run('LOAD CSV WITH HEADERS FROM \"file:///airlines.csv\" AS row CREATE (n:Airline) SET n = row, n.IATA = toString(row.IATA), n.name = toString(row.name), n.country = toString(row.country), n.fleet_size = toInteger(row.fleet_size), n.destinations = toInteger(row.destinations)')"
   ]
  },
  {
   "cell_type": "code",
   "execution_count": 5,
   "metadata": {},
   "outputs": [],
   "source": [
    "airport = driver.session().run('LOAD CSV WITH HEADERS FROM \"file:///airports.csv\" AS row CREATE (n:Airport) SET n = row, n.iata_code = toString(row.iata_code), n.city = toString(row.city), n.country = toString(row.country)')"
   ]
  },
  {
   "cell_type": "code",
   "execution_count": 6,
   "metadata": {},
   "outputs": [],
   "source": [
    "city = driver.session().run('LOAD CSV WITH HEADERS FROM \"file:///cities.csv\" AS row CREATE (n:City) SET n = row, n.city_name = toString(row.city_name), n.country = toString(row.country), n.capital = toString(row.capital), n.nature = toString(row.nature), n.city_interest = toString(row.city_interest)')"
   ]
  },
  {
   "cell_type": "code",
   "execution_count": 7,
   "metadata": {},
   "outputs": [],
   "source": [
    "timetable = driver.session().run('LOAD CSV WITH HEADERS FROM \"file:///timetable.csv\" AS row CREATE (n:Timetable) SET n = row, n.airline = toString(row.airline), n.flight_number = toString(row.flight_number), n.departure_time = toString(row.departure_time), n.arrival_time = toString(row.arrival_time), n.departure_airport = toString(row.departure_airport), n.destination_airport = toString(row.destination_airport), n.airplane_model = toString(row.airplane_model), n.flight_duration = toString(row.flight_duration)')"
   ]
  },
  {
   "cell_type": "code",
   "execution_count": 8,
   "metadata": {},
   "outputs": [],
   "source": [
    "aircraft_type = driver.session().run('MATCH (t:Timetable),(a:Aircraft) WHERE t.airplane_model = a.aircraft_type CREATE (t)-[:aircraft_type]->(a)')"
   ]
  },
  {
   "cell_type": "code",
   "execution_count": 9,
   "metadata": {},
   "outputs": [
    {
     "data": {
      "text/plain": [
       "<neo4j.BoltStatementResult at 0x20b63298d88>"
      ]
     },
     "execution_count": 9,
     "metadata": {},
     "output_type": "execute_result"
    }
   ],
   "source": [
    "driver.session().run('MATCH (a:Airport),(c:City) WHERE a.city = c.city_name CREATE (a)-[:located_in]->(c)')"
   ]
  },
  {
   "cell_type": "code",
   "execution_count": 10,
   "metadata": {},
   "outputs": [
    {
     "data": {
      "text/plain": [
       "<neo4j.BoltStatementResult at 0x20b64645248>"
      ]
     },
     "execution_count": 10,
     "metadata": {},
     "output_type": "execute_result"
    }
   ],
   "source": [
    "driver.session().run('MATCH (t:Timetable),(a:Airport) WHERE t.departure_airport = a.iata_code CREATE (t)-[:flies_from]->(a)')"
   ]
  },
  {
   "cell_type": "code",
   "execution_count": 11,
   "metadata": {},
   "outputs": [
    {
     "data": {
      "text/plain": [
       "<neo4j.BoltStatementResult at 0x20b6464b048>"
      ]
     },
     "execution_count": 11,
     "metadata": {},
     "output_type": "execute_result"
    }
   ],
   "source": [
    "driver.session().run('MATCH (t:Timetable),(a:Airport) WHERE t.destination_airport = a.iata_code CREATE (t)-[:flies_to]->(a)')"
   ]
  },
  {
   "cell_type": "code",
   "execution_count": 12,
   "metadata": {},
   "outputs": [
    {
     "data": {
      "text/plain": [
       "<neo4j.BoltStatementResult at 0x20b6464bc88>"
      ]
     },
     "execution_count": 12,
     "metadata": {},
     "output_type": "execute_result"
    }
   ],
   "source": [
    "driver.session().run('MATCH (t:Timetable),(a:Airline) WHERE t.airline = a.IATA CREATE (t)-[:operated_by]->(a)')"
   ]
  },
  {
   "cell_type": "markdown",
   "metadata": {},
   "source": [
    "# UPDATE"
   ]
  },
  {
   "cell_type": "code",
   "execution_count": 16,
   "metadata": {},
   "outputs": [
    {
     "name": "stdout",
     "output_type": "stream",
     "text": [
      "Выберите тип объекта\n"
     ]
    },
    {
     "data": {
      "application/vnd.jupyter.widget-view+json": {
       "model_id": "18b3347325c842aa81b8e02e20d04d61",
       "version_major": 2,
       "version_minor": 0
      },
      "text/plain": [
       "Dropdown(options=('City', 'Airport', 'Aircraft', 'Flight', 'Airline'), value='City')"
      ]
     },
     "metadata": {},
     "output_type": "display_data"
    }
   ],
   "source": [
    "table = widgets.Dropdown(\n",
    "    options=['City', 'Airport', 'Aircraft', 'Flight', 'Airline'])\n",
    "\n",
    "print('Выберите тип объекта')\n",
    "table"
   ]
  },
  {
   "cell_type": "code",
   "execution_count": 86,
   "metadata": {},
   "outputs": [],
   "source": [
    "if table.value == 'Flight':\n",
    "    category = 'Timetable'\n",
    "else:\n",
    "    category = table.value"
   ]
  },
  {
   "cell_type": "code",
   "execution_count": 87,
   "metadata": {},
   "outputs": [],
   "source": [
    "get_props = 'MATCH (n:'+category+') RETURN DISTINCT keys(n), size(keys(n)) ORDER BY size(keys(n)) DESC'"
   ]
  },
  {
   "cell_type": "code",
   "execution_count": 88,
   "metadata": {},
   "outputs": [],
   "source": [
    "props = driver.session().run(get_props)\n",
    "properties = props.value()[0]"
   ]
  },
  {
   "cell_type": "code",
   "execution_count": 15,
   "metadata": {},
   "outputs": [
    {
     "ename": "NameError",
     "evalue": "name 'properties' is not defined",
     "output_type": "error",
     "traceback": [
      "\u001b[1;31m---------------------------------------------------------------------------\u001b[0m",
      "\u001b[1;31mNameError\u001b[0m                                 Traceback (most recent call last)",
      "\u001b[1;32m<ipython-input-15-35299ae87d91>\u001b[0m in \u001b[0;36m<module>\u001b[1;34m\u001b[0m\n\u001b[0;32m     21\u001b[0m         \u001b[1;32mreturn\u001b[0m \u001b[0mself\u001b[0m\u001b[1;33m.\u001b[0m\u001b[0mv\u001b[0m\u001b[1;33m\u001b[0m\u001b[1;33m\u001b[0m\u001b[0m\n\u001b[0;32m     22\u001b[0m \u001b[1;33m\u001b[0m\u001b[0m\n\u001b[1;32m---> 23\u001b[1;33m \u001b[0mf\u001b[0m \u001b[1;33m=\u001b[0m \u001b[0mdate_input\u001b[0m\u001b[1;33m(\u001b[0m\u001b[1;33m)\u001b[0m\u001b[1;33m\u001b[0m\u001b[1;33m\u001b[0m\u001b[0m\n\u001b[0m",
      "\u001b[1;32m<ipython-input-15-35299ae87d91>\u001b[0m in \u001b[0;36m__init__\u001b[1;34m(self)\u001b[0m\n\u001b[0;32m      3\u001b[0m \u001b[1;33m\u001b[0m\u001b[0m\n\u001b[0;32m      4\u001b[0m         self.input_text_column = widgets.Dropdown(\n\u001b[1;32m----> 5\u001b[1;33m     \u001b[0moptions\u001b[0m\u001b[1;33m=\u001b[0m\u001b[0mproperties\u001b[0m\u001b[1;33m,\u001b[0m\u001b[1;33m\u001b[0m\u001b[1;33m\u001b[0m\u001b[0m\n\u001b[0m\u001b[0;32m      6\u001b[0m     description='признак')\n\u001b[0;32m      7\u001b[0m         \u001b[0mself\u001b[0m\u001b[1;33m.\u001b[0m\u001b[0minput_text_set_value\u001b[0m \u001b[1;33m=\u001b[0m \u001b[0mwidgets\u001b[0m\u001b[1;33m.\u001b[0m\u001b[0mText\u001b[0m\u001b[1;33m(\u001b[0m\u001b[0mdescription\u001b[0m \u001b[1;33m=\u001b[0m \u001b[1;34m'задать как'\u001b[0m\u001b[1;33m)\u001b[0m\u001b[1;33m\u001b[0m\u001b[1;33m\u001b[0m\u001b[0m\n",
      "\u001b[1;31mNameError\u001b[0m: name 'properties' is not defined"
     ]
    }
   ],
   "source": [
    "class date_input():\n",
    "    def __init__(self):\n",
    "        \n",
    "        self.input_text_column = widgets.Dropdown(\n",
    "    options=properties,\n",
    "    description='признак')\n",
    "        self.input_text_set_value = widgets.Text(description = 'задать как')  \n",
    "        self.input_text_condition_column = widgets.Dropdown(\n",
    "    options=properties,\n",
    "    description='если признак')\n",
    "        self.input_text_condition_value = widgets.Text(description = 'содержит значение:')  \n",
    "\n",
    "        self.input_text_set_value.on_submit(self.handle_submit)\n",
    "        self.input_text_condition_value.on_submit(self.handle_submit)\n",
    "        \n",
    "        display(self.input_text_column, self.input_text_set_value, self.input_text_condition_column,\n",
    "                self.input_text_condition_value)\n",
    "\n",
    "    def handle_submit(self, text):\n",
    "        self.v = text.value\n",
    "        return self.v\n",
    "\n",
    "f = date_input()"
   ]
  },
  {
   "cell_type": "code",
   "execution_count": 90,
   "metadata": {},
   "outputs": [],
   "source": [
    "query = 'MATCH (n {'+f.input_text_condition_column.value+ ':\"'+f.input_text_condition_value.value+'\" }) SET n.'+f.input_text_column.value+' =\"'+f.input_text_set_value.value+'\"'"
   ]
  },
  {
   "cell_type": "code",
   "execution_count": 91,
   "metadata": {},
   "outputs": [
    {
     "data": {
      "text/plain": [
       "'MATCH (n {city_name:\"Moscow\" }) SET n.nature =\"mountain\"'"
      ]
     },
     "execution_count": 91,
     "metadata": {},
     "output_type": "execute_result"
    }
   ],
   "source": [
    "query"
   ]
  },
  {
   "cell_type": "code",
   "execution_count": 92,
   "metadata": {},
   "outputs": [
    {
     "data": {
      "text/plain": [
       "<neo4j.BoltStatementResult at 0x2de5c8c0188>"
      ]
     },
     "execution_count": 92,
     "metadata": {},
     "output_type": "execute_result"
    }
   ],
   "source": [
    "driver.session().run(query)"
   ]
  },
  {
   "cell_type": "markdown",
   "metadata": {},
   "source": [
    "# DELETE"
   ]
  },
  {
   "cell_type": "code",
   "execution_count": 78,
   "metadata": {},
   "outputs": [
    {
     "name": "stdout",
     "output_type": "stream",
     "text": [
      "Выберите тип объекта, который вы хотите удалить: \n"
     ]
    },
    {
     "data": {
      "application/vnd.jupyter.widget-view+json": {
       "model_id": "5a8326633c0d4e62b649a0a36c1ceb0b",
       "version_major": 2,
       "version_minor": 0
      },
      "text/plain": [
       "Dropdown(options=('Aircraft', 'Airport', 'Airline', 'City', 'Timetable'), value='Aircraft')"
      ]
     },
     "metadata": {},
     "output_type": "display_data"
    }
   ],
   "source": [
    "options = ['Aircraft', 'Airport', 'Airline', 'City', 'Timetable']\n",
    "\n",
    "table = widgets.Dropdown(\n",
    "    options=options)\n",
    "\n",
    "print('Выберите тип объекта, который вы хотите удалить: ')\n",
    "table"
   ]
  },
  {
   "cell_type": "code",
   "execution_count": 141,
   "metadata": {},
   "outputs": [],
   "source": [
    "def get_columns(t):\n",
    "    res = driver.session().run('MATCH (n:{}) RETURN DISTINCT keys(n), size(keys(n)) ORDER BY size(keys(n)) DESC'.format(t))\n",
    "    res = res.value()[0]\n",
    "    return res"
   ]
  },
  {
   "cell_type": "code",
   "execution_count": 142,
   "metadata": {},
   "outputs": [
    {
     "data": {
      "text/plain": [
       "['flight_number',\n",
       " 'flight_duration',\n",
       " 'destination_airport',\n",
       " 'departure_time',\n",
       " 'arrival_time',\n",
       " 'departure_airport',\n",
       " 'airline',\n",
       " 'airplane_model']"
      ]
     },
     "execution_count": 142,
     "metadata": {},
     "output_type": "execute_result"
    }
   ],
   "source": [
    "type_to_delete = table.value\n",
    "columns = get_columns(type_to_delete)\n",
    "columns"
   ]
  },
  {
   "cell_type": "code",
   "execution_count": 143,
   "metadata": {},
   "outputs": [],
   "source": [
    "def get_options(i):\n",
    "    res = driver.session().run('MATCH (c:{}) RETURN c.{}'.format(type_to_delete, i))\n",
    "    res = set(res.value())\n",
    "    return res"
   ]
  },
  {
   "cell_type": "code",
   "execution_count": 144,
   "metadata": {},
   "outputs": [],
   "source": [
    "d = {}\n",
    "for i in columns:\n",
    "    values = get_options(i)\n",
    "    d[i] = values"
   ]
  },
  {
   "cell_type": "code",
   "execution_count": 145,
   "metadata": {},
   "outputs": [
    {
     "data": {
      "text/plain": [
       "{'flight_number': {'1317',\n",
       "  '2263',\n",
       "  '278',\n",
       "  '3661',\n",
       "  '509',\n",
       "  '574',\n",
       "  '610',\n",
       "  '7033',\n",
       "  '845',\n",
       "  '944'},\n",
       " 'flight_duration': {'00:46:00',\n",
       "  '01:25:00',\n",
       "  '01:45:00',\n",
       "  '02:20:00',\n",
       "  '02:30:00',\n",
       "  '02:45:00',\n",
       "  '03:45:00',\n",
       "  '04:25:00',\n",
       "  '04:45:00',\n",
       "  '04:55:00'},\n",
       " 'destination_airport': {'AYT',\n",
       "  'BCN',\n",
       "  'DME',\n",
       "  'GOJ',\n",
       "  'KZN',\n",
       "  'MSQ',\n",
       "  'SVO',\n",
       "  'TXL'},\n",
       " 'departure_time': {'01:30:00',\n",
       "  '04:20:00',\n",
       "  '05:35:00',\n",
       "  '09:40:00',\n",
       "  '10:05:00',\n",
       "  '12:55:00',\n",
       "  '13:20:00',\n",
       "  '18:50:00',\n",
       "  '21:20:00',\n",
       "  '21:40:00'},\n",
       " 'arrival_time': {'00:05:00',\n",
       "  '00:10:00',\n",
       "  '00:15:00',\n",
       "  '05:06:00',\n",
       "  '05:15:00',\n",
       "  '07:00:00',\n",
       "  '10:35:00',\n",
       "  '12:50:00',\n",
       "  '14:05:00',\n",
       "  '15:15:00'},\n",
       " 'departure_airport': {'AER',\n",
       "  'BAX',\n",
       "  'DME',\n",
       "  'GOJ',\n",
       "  'LED',\n",
       "  'MMK',\n",
       "  'TLL',\n",
       "  'TLV',\n",
       "  'VKO'},\n",
       " 'airline': {'B2', 'DP', 'RT', 'S7', 'SU', 'U6', 'WZ'},\n",
       " 'airplane_model': {'A 320',\n",
       "  'A 320-200',\n",
       "  'A 321',\n",
       "  'B 735',\n",
       "  'B 737-800',\n",
       "  'CRJ 100-200',\n",
       "  'CRJ 200',\n",
       "  'SSJ 100-95'}}"
      ]
     },
     "execution_count": 145,
     "metadata": {},
     "output_type": "execute_result"
    }
   ],
   "source": [
    "d"
   ]
  },
  {
   "cell_type": "code",
   "execution_count": 146,
   "metadata": {},
   "outputs": [
    {
     "data": {
      "application/vnd.jupyter.widget-view+json": {
       "model_id": "013c76029ad44ce49db06185071a5df8",
       "version_major": 2,
       "version_minor": 0
      },
      "text/plain": [
       "Dropdown(description='flight_number', options=('574', '2263', '1317', '610', '278', '509', '944', '845', '7033…"
      ]
     },
     "metadata": {},
     "output_type": "display_data"
    },
    {
     "data": {
      "application/vnd.jupyter.widget-view+json": {
       "model_id": "2ceacc9a7ce84b13beec8014ae18d96f",
       "version_major": 2,
       "version_minor": 0
      },
      "text/plain": [
       "Dropdown(description='flight_duration', options=('02:45:00', '01:45:00', '04:25:00', '03:45:00', '04:55:00', '…"
      ]
     },
     "metadata": {},
     "output_type": "display_data"
    },
    {
     "data": {
      "application/vnd.jupyter.widget-view+json": {
       "model_id": "897099d638534e129e84c2425514cfdc",
       "version_major": 2,
       "version_minor": 0
      },
      "text/plain": [
       "Dropdown(description='destination_airport', options=('KZN', 'SVO', 'DME', 'MSQ', 'AYT', 'TXL', 'GOJ', 'BCN'), …"
      ]
     },
     "metadata": {},
     "output_type": "display_data"
    },
    {
     "data": {
      "application/vnd.jupyter.widget-view+json": {
       "model_id": "5e48ae24287a4d04bf282065b64d0af4",
       "version_major": 2,
       "version_minor": 0
      },
      "text/plain": [
       "Dropdown(description='departure_time', options=('01:30:00', '05:35:00', '04:20:00', '10:05:00', '09:40:00', '1…"
      ]
     },
     "metadata": {},
     "output_type": "display_data"
    },
    {
     "data": {
      "application/vnd.jupyter.widget-view+json": {
       "model_id": "a237af9d8d38405ea6b194483927255a",
       "version_major": 2,
       "version_minor": 0
      },
      "text/plain": [
       "Dropdown(description='arrival_time', options=('05:15:00', '12:50:00', '15:15:00', '07:00:00', '00:05:00', '10:…"
      ]
     },
     "metadata": {},
     "output_type": "display_data"
    },
    {
     "data": {
      "application/vnd.jupyter.widget-view+json": {
       "model_id": "53d744f1391c48ba9d1db0639c0b2774",
       "version_major": 2,
       "version_minor": 0
      },
      "text/plain": [
       "Dropdown(description='departure_airport', options=('BAX', 'VKO', 'LED', 'DME', 'AER', 'TLV', 'TLL', 'GOJ', 'MM…"
      ]
     },
     "metadata": {},
     "output_type": "display_data"
    },
    {
     "data": {
      "application/vnd.jupyter.widget-view+json": {
       "model_id": "6c36bf3ee3e146258007490466507add",
       "version_major": 2,
       "version_minor": 0
      },
      "text/plain": [
       "Dropdown(description='airline', options=('U6', 'B2', 'S7', 'DP', 'RT', 'WZ', 'SU'), value='U6')"
      ]
     },
     "metadata": {},
     "output_type": "display_data"
    },
    {
     "data": {
      "application/vnd.jupyter.widget-view+json": {
       "model_id": "d84231c4be1c4be08390d5ba12aa88ac",
       "version_major": 2,
       "version_minor": 0
      },
      "text/plain": [
       "Dropdown(description='airplane_model', options=('A 320', 'CRJ 200', 'A 321', 'CRJ 100-200', 'B 737-800', 'SSJ …"
      ]
     },
     "metadata": {},
     "output_type": "display_data"
    }
   ],
   "source": [
    "arr = []\n",
    "for k, v in d.items():\n",
    "    w = widgets.Dropdown(options=v, description=k)\n",
    "    display(w)\n",
    "    arr.append(w)"
   ]
  },
  {
   "cell_type": "code",
   "execution_count": 147,
   "metadata": {},
   "outputs": [],
   "source": [
    "values = [\"'\"+str(item.value)+\"'\" for item in arr]\n",
    "prodelete = dict(zip(columns, values))"
   ]
  },
  {
   "cell_type": "code",
   "execution_count": 148,
   "metadata": {},
   "outputs": [
    {
     "data": {
      "text/plain": [
       "{'flight_number': \"'2263'\",\n",
       " 'flight_duration': \"'01:45:00'\",\n",
       " 'destination_airport': \"'SVO'\",\n",
       " 'departure_time': \"'21:20:00'\",\n",
       " 'arrival_time': \"'00:05:00'\",\n",
       " 'departure_airport': \"'TLL'\",\n",
       " 'airline': \"'SU'\",\n",
       " 'airplane_model': \"'SSJ 100-95'\"}"
      ]
     },
     "execution_count": 148,
     "metadata": {},
     "output_type": "execute_result"
    }
   ],
   "source": [
    "prodelete"
   ]
  },
  {
   "cell_type": "code",
   "execution_count": 149,
   "metadata": {},
   "outputs": [],
   "source": [
    "pr = str(prodelete)\n",
    "prod = re.sub(\"'\", '', pr)\n",
    "del_query = 'MATCH (a:'+table.value+' '+prod+') DETACH DELETE a'"
   ]
  },
  {
   "cell_type": "code",
   "execution_count": 150,
   "metadata": {},
   "outputs": [
    {
     "data": {
      "text/plain": [
       "'MATCH (a:Timetable {flight_number: \"2263\", flight_duration: \"01:45:00\", destination_airport: \"SVO\", departure_time: \"21:20:00\", arrival_time: \"00:05:00\", departure_airport: \"TLL\", airline: \"SU\", airplane_model: \"SSJ 100-95\"}) DETACH DELETE a'"
      ]
     },
     "execution_count": 150,
     "metadata": {},
     "output_type": "execute_result"
    }
   ],
   "source": [
    "del_query"
   ]
  },
  {
   "cell_type": "code",
   "execution_count": 151,
   "metadata": {},
   "outputs": [
    {
     "data": {
      "text/plain": [
       "<neo4j.BoltStatementResult at 0x1d8aa0a32e8>"
      ]
     },
     "execution_count": 151,
     "metadata": {},
     "output_type": "execute_result"
    }
   ],
   "source": [
    "driver.session().run(del_query)"
   ]
  },
  {
   "cell_type": "markdown",
   "metadata": {},
   "source": [
    "# CREATE"
   ]
  },
  {
   "cell_type": "code",
   "execution_count": 93,
   "metadata": {},
   "outputs": [
    {
     "name": "stdout",
     "output_type": "stream",
     "text": [
      "Выберите тип объекта\n"
     ]
    },
    {
     "data": {
      "application/vnd.jupyter.widget-view+json": {
       "model_id": "9d26730e878c409b903be85fbc4a38df",
       "version_major": 2,
       "version_minor": 0
      },
      "text/plain": [
       "Dropdown(options=('City', 'Airport', 'Aircraft', 'Flight', 'Airline'), value='City')"
      ]
     },
     "metadata": {},
     "output_type": "display_data"
    }
   ],
   "source": [
    "table = widgets.Dropdown(\n",
    "    options=['City', 'Airport', 'Aircraft', 'Flight', 'Airline'])\n",
    "\n",
    "print('Выберите тип объекта')\n",
    "table"
   ]
  },
  {
   "cell_type": "code",
   "execution_count": 95,
   "metadata": {},
   "outputs": [],
   "source": [
    "if table.value == 'Flight':\n",
    "    category = 'Timetable'\n",
    "else:\n",
    "    category = table.value\n",
    "    \n",
    "get_props = 'MATCH (n:'+category+') RETURN DISTINCT keys(n), size(keys(n)) ORDER BY size(keys(n)) DESC'\n",
    "\n",
    "props = driver.session().run(get_props)\n",
    "properties = props.value()[0]"
   ]
  },
  {
   "cell_type": "code",
   "execution_count": 99,
   "metadata": {},
   "outputs": [
    {
     "data": {
      "application/vnd.jupyter.widget-view+json": {
       "model_id": "1d2116aab07b400482c4914259898a41",
       "version_major": 2,
       "version_minor": 0
      },
      "text/plain": [
       "Text(value='', description='aircraft_type')"
      ]
     },
     "metadata": {},
     "output_type": "display_data"
    },
    {
     "data": {
      "application/vnd.jupyter.widget-view+json": {
       "model_id": "8a2f204f76384548ac2bc40b4ec51bc3",
       "version_major": 2,
       "version_minor": 0
      },
      "text/plain": [
       "Text(value='', description='manufacturer')"
      ]
     },
     "metadata": {},
     "output_type": "display_data"
    },
    {
     "data": {
      "application/vnd.jupyter.widget-view+json": {
       "model_id": "2e69b9ff534741c18251ef751102b7ee",
       "version_major": 2,
       "version_minor": 0
      },
      "text/plain": [
       "Text(value='', description='distance')"
      ]
     },
     "metadata": {},
     "output_type": "display_data"
    },
    {
     "data": {
      "application/vnd.jupyter.widget-view+json": {
       "model_id": "daf7df88ec0c4e1e9c9af47dfa94abb3",
       "version_major": 2,
       "version_minor": 0
      },
      "text/plain": [
       "Text(value='', description='body_type')"
      ]
     },
     "metadata": {},
     "output_type": "display_data"
    },
    {
     "data": {
      "application/vnd.jupyter.widget-view+json": {
       "model_id": "71acf1a18c4042ca98c50b4590818931",
       "version_major": 2,
       "version_minor": 0
      },
      "text/plain": [
       "Text(value='', description='capacity')"
      ]
     },
     "metadata": {},
     "output_type": "display_data"
    }
   ],
   "source": [
    "items = [widgets.Text(description = pro) for pro in properties]\n",
    "for i in items:\n",
    "    display(i)"
   ]
  },
  {
   "cell_type": "code",
   "execution_count": 105,
   "metadata": {},
   "outputs": [],
   "source": [
    "values = [\"'\"+item.value+\"'\" for item in items]\n",
    "procreate = dict(zip(properties, values))"
   ]
  },
  {
   "cell_type": "code",
   "execution_count": 107,
   "metadata": {},
   "outputs": [],
   "source": [
    "pr = str(procreate)"
   ]
  },
  {
   "cell_type": "code",
   "execution_count": 110,
   "metadata": {},
   "outputs": [],
   "source": [
    "procr = re.sub(\"'\", '', pr)"
   ]
  },
  {
   "cell_type": "code",
   "execution_count": 111,
   "metadata": {},
   "outputs": [
    {
     "data": {
      "text/plain": [
       "'{aircraft_type: \"a\", manufacturer: \"s\", distance: \"d\", body_type: \"f\", capacity: \"g\"}'"
      ]
     },
     "execution_count": 111,
     "metadata": {},
     "output_type": "execute_result"
    }
   ],
   "source": [
    "procr"
   ]
  },
  {
   "cell_type": "code",
   "execution_count": 112,
   "metadata": {},
   "outputs": [],
   "source": [
    "creation_query  = 'CREATE (a:'+table.value+' '+procr+')'"
   ]
  },
  {
   "cell_type": "code",
   "execution_count": 113,
   "metadata": {},
   "outputs": [
    {
     "data": {
      "text/plain": [
       "'CREATE (a:Aircraft {aircraft_type: \"a\", manufacturer: \"s\", distance: \"d\", body_type: \"f\", capacity: \"g\"})'"
      ]
     },
     "execution_count": 113,
     "metadata": {},
     "output_type": "execute_result"
    }
   ],
   "source": [
    "creation_query"
   ]
  },
  {
   "cell_type": "code",
   "execution_count": 35,
   "metadata": {},
   "outputs": [
    {
     "ename": "NameError",
     "evalue": "name 'creation_query' is not defined",
     "output_type": "error",
     "traceback": [
      "\u001b[1;31m---------------------------------------------------------------------------\u001b[0m",
      "\u001b[1;31mNameError\u001b[0m                                 Traceback (most recent call last)",
      "\u001b[1;32m<ipython-input-35-454105c3fac1>\u001b[0m in \u001b[0;36m<module>\u001b[1;34m\u001b[0m\n\u001b[1;32m----> 1\u001b[1;33m \u001b[0mrun\u001b[0m \u001b[1;33m=\u001b[0m \u001b[0mdriver\u001b[0m\u001b[1;33m.\u001b[0m\u001b[0msession\u001b[0m\u001b[1;33m(\u001b[0m\u001b[1;33m)\u001b[0m\u001b[1;33m.\u001b[0m\u001b[0mrun\u001b[0m\u001b[1;33m(\u001b[0m\u001b[0mcreation_query\u001b[0m\u001b[1;33m)\u001b[0m\u001b[1;33m\u001b[0m\u001b[1;33m\u001b[0m\u001b[0m\n\u001b[0m",
      "\u001b[1;31mNameError\u001b[0m: name 'creation_query' is not defined"
     ]
    }
   ],
   "source": [
    "driver.session().run(creation_query)"
   ]
  },
  {
   "cell_type": "markdown",
   "metadata": {},
   "source": [
    "# **READ**"
   ]
  },
  {
   "cell_type": "markdown",
   "metadata": {},
   "source": [
    "Задача: посмотреть какое-то свойство  по всем объектам\n",
    "\n",
    "\n",
    "Например, тип - аэропорт, свойство - город\n",
    "\n",
    "Видим все города, где есть аэропорты (по нашей базе)\n",
    "\n",
    "\n",
    "Например, тип - самолет, свойство - тип\n",
    "\n",
    "Все модели самолетов\n",
    "\n",
    "\n",
    "Например, тип - рейс, свойство - номер рейса\n",
    "\n",
    "все номера рейсов :)"
   ]
  },
  {
   "cell_type": "code",
   "execution_count": 91,
   "metadata": {},
   "outputs": [
    {
     "name": "stdout",
     "output_type": "stream",
     "text": [
      "Выберите тип объекта\n"
     ]
    },
    {
     "data": {
      "application/vnd.jupyter.widget-view+json": {
       "model_id": "76dafb66f09a4da6b10f4594fcf28647",
       "version_major": 2,
       "version_minor": 0
      },
      "text/plain": [
       "Dropdown(options=('City', 'Airport', 'Aircraft', 'Flight', 'Airline'), value='City')"
      ]
     },
     "metadata": {},
     "output_type": "display_data"
    }
   ],
   "source": [
    "table = widgets.Dropdown(\n",
    "    options=['City', 'Airport', 'Aircraft', 'Flight', 'Airline'])\n",
    "\n",
    "print('Выберите тип объекта')\n",
    "table"
   ]
  },
  {
   "cell_type": "code",
   "execution_count": 92,
   "metadata": {},
   "outputs": [],
   "source": [
    "if table.value == 'Flight':\n",
    "    category = 'Timetable'\n",
    "else:\n",
    "    category = table.value"
   ]
  },
  {
   "cell_type": "code",
   "execution_count": 93,
   "metadata": {},
   "outputs": [],
   "source": [
    "get_props = 'MATCH (n:'+category+') RETURN DISTINCT keys(n), size(keys(n)) ORDER BY size(keys(n)) DESC'\n",
    "\n",
    "props = driver.session().run(get_props)\n",
    "properties = props.value()[0]"
   ]
  },
  {
   "cell_type": "code",
   "execution_count": 94,
   "metadata": {},
   "outputs": [
    {
     "name": "stdout",
     "output_type": "stream",
     "text": [
      "какую информацию об объекте вы хотите узнать\n"
     ]
    },
    {
     "data": {
      "application/vnd.jupyter.widget-view+json": {
       "model_id": "251ef438db814f9681297a41d27f12a7",
       "version_major": 2,
       "version_minor": 0
      },
      "text/plain": [
       "Dropdown(options=('nature', 'city_interest', 'capital', 'city_name', 'country'), value='nature')"
      ]
     },
     "metadata": {},
     "output_type": "display_data"
    }
   ],
   "source": [
    "what_to_show = widgets.Dropdown(\n",
    "    options= properties)\n",
    "\n",
    "print('какую информацию об объекте вы хотите узнать')\n",
    "what_to_show"
   ]
  },
  {
   "cell_type": "code",
   "execution_count": 95,
   "metadata": {},
   "outputs": [],
   "source": [
    "query_info = 'MATCH (n:'+category+') RETURN n.'+what_to_show.value\n",
    "run = driver.session().run(query_info)\n",
    "result = run.value()"
   ]
  },
  {
   "cell_type": "code",
   "execution_count": 96,
   "metadata": {},
   "outputs": [
    {
     "data": {
      "text/plain": [
       "['vacation',\n",
       " 'vacation',\n",
       " 'vacation',\n",
       " 'culture',\n",
       " 'cuture',\n",
       " 'business',\n",
       " 'culture',\n",
       " 'culture',\n",
       " 'culture',\n",
       " 'culture',\n",
       " 'vacation',\n",
       " 'culture',\n",
       " 'vacation']"
      ]
     },
     "execution_count": 96,
     "metadata": {},
     "output_type": "execute_result"
    }
   ],
   "source": [
    "result"
   ]
  },
  {
   "cell_type": "markdown",
   "metadata": {},
   "source": [
    "# SORT"
   ]
  },
  {
   "cell_type": "markdown",
   "metadata": {},
   "source": [
    "показать рейсы, отсортированные по времени (или чему-то другому)"
   ]
  },
  {
   "cell_type": "code",
   "execution_count": 26,
   "metadata": {},
   "outputs": [
    {
     "name": "stdout",
     "output_type": "stream",
     "text": [
      "Выберите тип объекта\n"
     ]
    },
    {
     "data": {
      "application/vnd.jupyter.widget-view+json": {
       "model_id": "ed11d87d37694fb28a690e008f90320a",
       "version_major": 2,
       "version_minor": 0
      },
      "text/plain": [
       "Dropdown(options=('City', 'Airport', 'Aircraft', 'Flight', 'Airline'), value='City')"
      ]
     },
     "metadata": {},
     "output_type": "display_data"
    }
   ],
   "source": [
    "table = widgets.Dropdown(\n",
    "    options=['City', 'Airport', 'Aircraft', 'Flight', 'Airline'])\n",
    "\n",
    "print('Выберите тип объекта')\n",
    "table"
   ]
  },
  {
   "cell_type": "code",
   "execution_count": 153,
   "metadata": {},
   "outputs": [],
   "source": [
    "if table.value == 'Flight':\n",
    "    category = 'Timetable'\n",
    "else:\n",
    "    category = table.value"
   ]
  },
  {
   "cell_type": "code",
   "execution_count": 154,
   "metadata": {},
   "outputs": [],
   "source": [
    "get_props = 'MATCH (n:'+category+') RETURN DISTINCT keys(n), size(keys(n)) ORDER BY size(keys(n)) DESC'\n",
    "\n",
    "props = driver.session().run(get_props)\n",
    "properties = props.value()[0]"
   ]
  },
  {
   "cell_type": "code",
   "execution_count": 162,
   "metadata": {},
   "outputs": [
    {
     "name": "stdout",
     "output_type": "stream",
     "text": [
      "какую информацию об объекте вы хотите узнать\n"
     ]
    },
    {
     "data": {
      "application/vnd.jupyter.widget-view+json": {
       "model_id": "bbd25a52006b49c9907a15d506802ca0",
       "version_major": 2,
       "version_minor": 0
      },
      "text/plain": [
       "SelectMultiple(options=('iata_code', 'city'), value=())"
      ]
     },
     "metadata": {},
     "output_type": "display_data"
    }
   ],
   "source": [
    "what_to_show = widgets.SelectMultiple(                ###чтобы выбрать несколько признаков, зажми CTRL и выбирай\n",
    "    options = properties)                             ### UPD: несколько признаков не отражаются в результате запроса, почему-то\n",
    "                                                    ### а на сервере с таким же запросом - отражаются\n",
    "print('какую информацию об объекте вы хотите узнать')\n",
    "what_to_show"
   ]
  },
  {
   "cell_type": "code",
   "execution_count": 163,
   "metadata": {},
   "outputs": [],
   "source": [
    "to_join = []\n",
    "\n",
    "for k in what_to_show.value:\n",
    "    to_join.append('n.'+k)\n",
    "\n",
    "to_query = ', '.join(to_join)"
   ]
  },
  {
   "cell_type": "code",
   "execution_count": 164,
   "metadata": {},
   "outputs": [
    {
     "name": "stdout",
     "output_type": "stream",
     "text": [
      "сортировать по\n"
     ]
    },
    {
     "data": {
      "application/vnd.jupyter.widget-view+json": {
       "model_id": "e72210f6d48848ed99ca9055f9f00cdd",
       "version_major": 2,
       "version_minor": 0
      },
      "text/plain": [
       "RadioButtons(options=('iata_code', 'city'), value='iata_code')"
      ]
     },
     "metadata": {},
     "output_type": "display_data"
    }
   ],
   "source": [
    "sort_char = widgets.RadioButtons(                        ###чтобы выбрать несколько признаков, зажми CTRL и выбирай\n",
    "    options = properties)\n",
    "\n",
    "print('сортировать по')\n",
    "sort_char"
   ]
  },
  {
   "cell_type": "code",
   "execution_count": 165,
   "metadata": {},
   "outputs": [],
   "source": [
    "sort_query ='MATCH (n:'+category+') RETURN '+to_query+' ORDER BY n.'+sort_char.value+' ASC'"
   ]
  },
  {
   "cell_type": "code",
   "execution_count": 166,
   "metadata": {},
   "outputs": [
    {
     "data": {
      "text/plain": [
       "'MATCH (n:Airport) RETURN n.city ORDER BY n.iata_code ASC'"
      ]
     },
     "execution_count": 166,
     "metadata": {},
     "output_type": "execute_result"
    }
   ],
   "source": [
    "sort_query"
   ]
  },
  {
   "cell_type": "code",
   "execution_count": 167,
   "metadata": {},
   "outputs": [],
   "source": [
    "run = driver.session().run(sort_query)\n",
    "sorted_result = run.value()"
   ]
  },
  {
   "cell_type": "code",
   "execution_count": 168,
   "metadata": {},
   "outputs": [
    {
     "data": {
      "text/plain": [
       "['Sochi',\n",
       " 'Antalya',\n",
       " 'Barnaul',\n",
       " 'Barcelona',\n",
       " 'Moscow',\n",
       " 'Nizhny_Novgorod',\n",
       " 'Saint_Petersburg',\n",
       " 'Murmansk',\n",
       " 'Minsk',\n",
       " 'Moscow',\n",
       " 'Tallinn',\n",
       " 'Tel_Aviv',\n",
       " 'Berlin']"
      ]
     },
     "execution_count": 168,
     "metadata": {},
     "output_type": "execute_result"
    }
   ],
   "source": [
    "sorted_result"
   ]
  },
  {
   "cell_type": "markdown",
   "metadata": {},
   "source": [
    "# AGGREGATING FUNCTIONS"
   ]
  },
  {
   "cell_type": "markdown",
   "metadata": {},
   "source": [
    "# 1. Collect"
   ]
  },
  {
   "cell_type": "markdown",
   "metadata": {},
   "source": [
    "Узнать все \"входящие\" рейсы в какой-то аэропорт."
   ]
  },
  {
   "cell_type": "code",
   "execution_count": 85,
   "metadata": {},
   "outputs": [],
   "source": [
    "def get_options(i):\n",
    "    res = driver.session().run('MATCH (c:{}) RETURN c.{}'.format('Airport', i))\n",
    "    res = set(res.value())\n",
    "    return res"
   ]
  },
  {
   "cell_type": "code",
   "execution_count": 86,
   "metadata": {},
   "outputs": [],
   "source": [
    "options = get_options('iata_code')"
   ]
  },
  {
   "cell_type": "code",
   "execution_count": 87,
   "metadata": {},
   "outputs": [
    {
     "name": "stdout",
     "output_type": "stream",
     "text": [
      "Выберите аэропорт, прибывающие рейсы в который Вы хотите узнать: \n"
     ]
    },
    {
     "data": {
      "application/vnd.jupyter.widget-view+json": {
       "model_id": "b4c34eb10efb49569a17630ce92e9b79",
       "version_major": 2,
       "version_minor": 0
      },
      "text/plain": [
       "Dropdown(options=('SVO', 'TXL', 'VKO', 'GOJ', 'BAX', 'MMK', 'KZN', 'LED', 'TLV', 'MSQ', 'AER', 'TLL', 'DME', '…"
      ]
     },
     "metadata": {},
     "output_type": "display_data"
    }
   ],
   "source": [
    "table = widgets.Dropdown(\n",
    "    options=options)\n",
    "\n",
    "print('Выберите аэропорт, прибывающие рейсы в который Вы хотите узнать: ')\n",
    "table"
   ]
  },
  {
   "cell_type": "code",
   "execution_count": 83,
   "metadata": {},
   "outputs": [],
   "source": [
    "airport = table.value\n",
    "coll_query = \"MATCH (a:Airport)-[:flies_to]-(t:Timetable) WHERE a.iata_code = '\" + airport + \"' RETURN collect(t.flight_number) as t\"\n",
    "\n",
    "flights = driver.session().run(coll_query)"
   ]
  },
  {
   "cell_type": "code",
   "execution_count": 74,
   "metadata": {},
   "outputs": [
    {
     "name": "stdout",
     "output_type": "stream",
     "text": [
      "Номера рейсов, прибывающих в аэропорт SVO: \n",
      "<Record t=['1317', '2263', '509']>\n"
     ]
    }
   ],
   "source": [
    "print('Номера рейсов, прибывающих в аэропорт ' + airport + ': ')\n",
    "for i in flights:\n",
    "    print(i)"
   ]
  },
  {
   "cell_type": "markdown",
   "metadata": {},
   "source": [
    "# 2. Count"
   ]
  },
  {
   "cell_type": "markdown",
   "metadata": {},
   "source": [
    "Сколько аэропортов в городе? "
   ]
  },
  {
   "cell_type": "code",
   "execution_count": 123,
   "metadata": {},
   "outputs": [],
   "source": [
    "cities_toc = ['Antalya',\n",
    " 'Barcelona',\n",
    " 'Barnaul',\n",
    " 'Berlin',\n",
    " 'Kazan',\n",
    " 'Minsk',\n",
    " 'Moscow',\n",
    " 'Murmansk',\n",
    " 'Nizhny_Novgorod',\n",
    " 'Saint_Petersburg',\n",
    " 'Sochi',\n",
    " 'Tallinn',\n",
    " 'Tel_Aviv']"
   ]
  },
  {
   "cell_type": "code",
   "execution_count": 124,
   "metadata": {},
   "outputs": [
    {
     "name": "stdout",
     "output_type": "stream",
     "text": [
      "выберите город\n"
     ]
    },
    {
     "data": {
      "application/vnd.jupyter.widget-view+json": {
       "model_id": "92c2d288a9894f199b3e75d1d6e409df",
       "version_major": 2,
       "version_minor": 0
      },
      "text/plain": [
       "RadioButtons(options=('Antalya', 'Barcelona', 'Barnaul', 'Berlin', 'Kazan', 'Minsk', 'Moscow', 'Murmansk', 'Ni…"
      ]
     },
     "metadata": {},
     "output_type": "display_data"
    }
   ],
   "source": [
    "choose_city = widgets.RadioButtons(                        ###чтобы выбрать несколько признаков, зажми CTRL и выбирай\n",
    "    options = cities_toc)\n",
    "\n",
    "print('выберите город')\n",
    "\n",
    "choose_city"
   ]
  },
  {
   "cell_type": "code",
   "execution_count": 128,
   "metadata": {},
   "outputs": [],
   "source": [
    "count_query = \"MATCH (n { city: '\"+choose_city.value+\"' })-->(x) RETURN count(x)\""
   ]
  },
  {
   "cell_type": "code",
   "execution_count": 129,
   "metadata": {},
   "outputs": [
    {
     "data": {
      "text/plain": [
       "[3]"
      ]
     },
     "execution_count": 129,
     "metadata": {},
     "output_type": "execute_result"
    }
   ],
   "source": [
    "run = driver.session().run(count_query)\n",
    "counted = run.value()\n",
    "counted"
   ]
  },
  {
   "cell_type": "markdown",
   "metadata": {},
   "source": [
    "# Запросы к удаленным вершинам"
   ]
  },
  {
   "cell_type": "markdown",
   "metadata": {},
   "source": [
    "### 1. Показать все \"исходящие\"/\"входящие\" рейсы, которые отправляются из/в столиц или не столиц."
   ]
  },
  {
   "cell_type": "code",
   "execution_count": 97,
   "metadata": {},
   "outputs": [
    {
     "name": "stdout",
     "output_type": "stream",
     "text": [
      "Какие рейсы найти?\n"
     ]
    },
    {
     "data": {
      "application/vnd.jupyter.widget-view+json": {
       "model_id": "fd6d48cd21164c2ab9396c7974aef9a7",
       "version_major": 2,
       "version_minor": 0
      },
      "text/plain": [
       "RadioButtons(options=('входящие', 'исходящие'), value='входящие')"
      ]
     },
     "metadata": {},
     "output_type": "display_data"
    }
   ],
   "source": [
    "fl_type = widgets.RadioButtons(\n",
    "    options = ['входящие', 'исходящие'])\n",
    "\n",
    "print('Какие рейсы найти?')\n",
    "fl_type"
   ]
  },
  {
   "cell_type": "code",
   "execution_count": 98,
   "metadata": {},
   "outputs": [
    {
     "name": "stdout",
     "output_type": "stream",
     "text": [
      "Рейсы для каких городов?\n"
     ]
    },
    {
     "data": {
      "application/vnd.jupyter.widget-view+json": {
       "model_id": "00c7e0e375a7449c8a1cb38fd55afbbb",
       "version_major": 2,
       "version_minor": 0
      },
      "text/plain": [
       "RadioButtons(options=('столицы', 'не столицы'), value='столицы')"
      ]
     },
     "metadata": {},
     "output_type": "display_data"
    }
   ],
   "source": [
    "city_type = widgets.RadioButtons(\n",
    "    options = ['столицы', 'не столицы'])\n",
    "\n",
    "print('Рейсы для каких городов?')\n",
    "city_type"
   ]
  },
  {
   "cell_type": "code",
   "execution_count": 105,
   "metadata": {},
   "outputs": [],
   "source": [
    "if fl_type.value == 'входящие':\n",
    "    fl = 'flies_to'\n",
    "if fl_type.value == 'исходящие':\n",
    "    fl = 'flies_from'\n",
    "    \n",
    "if city_type.value == 'столицы':\n",
    "    c = '1'\n",
    "if city_type.value == 'не столицы':\n",
    "    c = '0'"
   ]
  },
  {
   "cell_type": "code",
   "execution_count": 106,
   "metadata": {},
   "outputs": [
    {
     "data": {
      "text/plain": [
       "['3661', '845', '2263']"
      ]
     },
     "execution_count": 106,
     "metadata": {},
     "output_type": "execute_result"
    }
   ],
   "source": [
    "query = \"match (c:City)-[:located_in]-(a:Airport)-[:\" + fl + \"]-(t:Timetable) where c.capital = '\" + c + \"' return t.flight_number as t\"\n",
    "dep = driver.session().run(query)\n",
    "dep.value()"
   ]
  },
  {
   "cell_type": "markdown",
   "metadata": {},
   "source": [
    "### 2. Показать информацию о самолетах, которые использует определенная авиакомпания."
   ]
  },
  {
   "cell_type": "code",
   "execution_count": 108,
   "metadata": {},
   "outputs": [],
   "source": [
    "def get_options(i):\n",
    "    res = driver.session().run('MATCH (c:{}) RETURN c.{}'.format('Airline', i))\n",
    "    res = set(res.value())\n",
    "    return res"
   ]
  },
  {
   "cell_type": "code",
   "execution_count": 117,
   "metadata": {},
   "outputs": [
    {
     "name": "stdout",
     "output_type": "stream",
     "text": [
      "Выберите авиакомпанию, информацию о самолетах которой вы хотите узнать: \n"
     ]
    },
    {
     "data": {
      "application/vnd.jupyter.widget-view+json": {
       "model_id": "9cd95f8e1af84073b18d79c0a7ea8307",
       "version_major": 2,
       "version_minor": 0
      },
      "text/plain": [
       "Dropdown(options=('S7 Airlines', 'Ural Airlines', 'Pobeda', 'UVT Aero', 'Red Wings Airlines', 'Aeroflot', 'Bel…"
      ]
     },
     "metadata": {},
     "output_type": "display_data"
    }
   ],
   "source": [
    "options = get_options('name')\n",
    "\n",
    "air_table = widgets.Dropdown(\n",
    "    options=options)\n",
    "\n",
    "print('Выберите авиакомпанию, информацию о самолетах которой вы хотите узнать: ')\n",
    "air_table"
   ]
  },
  {
   "cell_type": "code",
   "execution_count": 111,
   "metadata": {},
   "outputs": [],
   "source": [
    "def get_columns(t):\n",
    "    res = driver.session().run('MATCH (n:{}) RETURN DISTINCT keys(n), size(keys(n)) ORDER BY size(keys(n)) DESC'.format(t))\n",
    "    res = res.value()[0]\n",
    "    return res"
   ]
  },
  {
   "cell_type": "code",
   "execution_count": 116,
   "metadata": {},
   "outputs": [
    {
     "name": "stdout",
     "output_type": "stream",
     "text": [
      "Выберите тип информации о самолетах: \n"
     ]
    },
    {
     "data": {
      "application/vnd.jupyter.widget-view+json": {
       "model_id": "3e480c9a66c349448f191d852521a1b2",
       "version_major": 2,
       "version_minor": 0
      },
      "text/plain": [
       "Dropdown(options=('capacity', 'body_type', 'manufacturer', 'distance', 'aircraft_type'), value='capacity')"
      ]
     },
     "metadata": {},
     "output_type": "display_data"
    }
   ],
   "source": [
    "info_type = get_columns('Aircraft')\n",
    "\n",
    "table = widgets.Dropdown(\n",
    "    options=info_type)\n",
    "\n",
    "print('Выберите тип информации о самолетах: ')\n",
    "table"
   ]
  },
  {
   "cell_type": "code",
   "execution_count": 121,
   "metadata": {},
   "outputs": [
    {
     "data": {
      "text/plain": [
       "['narrow', 'narrow', 'narrow']"
      ]
     },
     "execution_count": 121,
     "metadata": {},
     "output_type": "execute_result"
    }
   ],
   "source": [
    "query = \"match (a:Airline)-[:operated_by]-(t:Timetable)-[:aircraft_type]-(ai:Aircraft) where a.name = '\" + air_table.value + \"' return ai.\" + table.value + \" as ai\"\n",
    "info = driver.session().run(query)\n",
    "info.value()"
   ]
  },
  {
   "cell_type": "markdown",
   "metadata": {},
   "source": [
    "### 3. Показать рейсы из точки А в точку Б"
   ]
  },
  {
   "cell_type": "code",
   "execution_count": 14,
   "metadata": {},
   "outputs": [],
   "source": [
    "def get_options_c(i):\n",
    "    res = driver.session().run('MATCH (c:{}) RETURN c.{}'.format('City', i))\n",
    "    res = set(res.value())\n",
    "    return res"
   ]
  },
  {
   "cell_type": "code",
   "execution_count": 16,
   "metadata": {},
   "outputs": [
    {
     "name": "stdout",
     "output_type": "stream",
     "text": [
      "Выберите город, из которого вы хотите улететь: \n"
     ]
    },
    {
     "data": {
      "application/vnd.jupyter.widget-view+json": {
       "model_id": "14a8d9d2c1cf439caf172195dc2461bf",
       "version_major": 2,
       "version_minor": 0
      },
      "text/plain": [
       "Dropdown(options=('Moscow', 'Saint_Petersburg', 'Tel_Aviv', 'Kazan', 'Berlin', 'Tallinn', 'Barcelona', 'Barnau…"
      ]
     },
     "metadata": {},
     "output_type": "display_data"
    }
   ],
   "source": [
    "options = get_options('city_name')\n",
    "\n",
    "out_table = widgets.Dropdown(\n",
    "    options=options)\n",
    "\n",
    "print('Выберите город, из которого вы хотите улететь: ')\n",
    "out_table"
   ]
  },
  {
   "cell_type": "code",
   "execution_count": 18,
   "metadata": {
    "scrolled": true
   },
   "outputs": [
    {
     "name": "stdout",
     "output_type": "stream",
     "text": [
      "Выберите город, в который вы хотите прилететь: \n"
     ]
    },
    {
     "data": {
      "application/vnd.jupyter.widget-view+json": {
       "model_id": "7d844f7ac7ab4ff1ba92fbdd2a84d876",
       "version_major": 2,
       "version_minor": 0
      },
      "text/plain": [
       "Dropdown(options=('Moscow', 'Saint_Petersburg', 'Tel_Aviv', 'Kazan', 'Berlin', 'Tallinn', 'Barcelona', 'Barnau…"
      ]
     },
     "metadata": {},
     "output_type": "display_data"
    }
   ],
   "source": [
    "options = get_options('city_name')\n",
    "\n",
    "in_table = widgets.Dropdown(\n",
    "    options=options)\n",
    "\n",
    "print('Выберите город, в который вы хотите прилететь: ')\n",
    "in_table"
   ]
  },
  {
   "cell_type": "code",
   "execution_count": 24,
   "metadata": {},
   "outputs": [
    {
     "data": {
      "text/plain": [
       "{'arrival_time': '15:15:00',\n",
       " 'departure_airport': 'AER',\n",
       " 'flight_number': '278',\n",
       " 'airline': 'U6',\n",
       " 'airplane_model': 'A 320-200',\n",
       " 'departure_time': '12:55:00',\n",
       " 'flight_duration': '02:20:00',\n",
       " 'destination_airport': 'DME'}"
      ]
     },
     "execution_count": 24,
     "metadata": {},
     "output_type": "execute_result"
    }
   ],
   "source": [
    "query = 'match (c1:City)-[:located_in]-(a1:Airport)-[:flies_from]-(t:Timetable)-[:flies_to]-(a2:Airport)-[:located_in]-(c2:City) where c1.city_name = \"' + out_table.value +'\" and c2.city_name = \"'+ in_table.value +'\" return properties(t)'\n",
    "flight = driver.session().run(query)\n",
    "flight.value()[0]"
   ]
  },
  {
   "cell_type": "code",
   "execution_count": null,
   "metadata": {},
   "outputs": [],
   "source": []
  }
 ],
 "metadata": {
  "kernelspec": {
   "display_name": "Python 3",
   "language": "python",
   "name": "python3"
  },
  "language_info": {
   "codemirror_mode": {
    "name": "ipython",
    "version": 3
   },
   "file_extension": ".py",
   "mimetype": "text/x-python",
   "name": "python",
   "nbconvert_exporter": "python",
   "pygments_lexer": "ipython3",
   "version": "3.7.4"
  }
 },
 "nbformat": 4,
 "nbformat_minor": 2
}
